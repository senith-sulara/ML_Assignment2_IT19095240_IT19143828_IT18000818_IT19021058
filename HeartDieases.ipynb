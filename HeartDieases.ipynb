{
  "nbformat": 4,
  "nbformat_minor": 0,
  "metadata": {
    "colab": {
      "name": "HeartDieases.ipynb",
      "provenance": [],

      "authorship_tag": "ABX9TyMPEGzAkMMMfELQtrWRilNP",
      "include_colab_link": true
    },
    "kernelspec": {
      "name": "python3",
      "display_name": "Python 3"
    },
    "language_info": {
      "name": "python"
    }
  },
  "cells": [
    {
      "cell_type": "markdown",
      "metadata": {
        "id": "view-in-github",
        "colab_type": "text"
      },
      "source": [

        "<a href=\"https://colab.research.google.com/github/senith-sulara/ML_Assignment2_IT19095240_IT19143828_IT18000818_IT19021058/blob/IT19095240/HeartDieases.ipynb\" target=\"_parent\"><img src=\"https://colab.research.google.com/assets/colab-badge.svg\" alt=\"Open In Colab\"/></a>"
      ]
    },
    {
      "cell_type": "code",
      "execution_count": 1,
      "metadata": {

        "id": "40QUcZIehK7N"

      },
      "outputs": [],
      "source": [
        "import pandas as pd"
      ]
    },
    {
      "cell_type": "code",
      "source": [
        "from google.colab import drive\n",
        "drive.mount('/content/drive')"
      ],
      "metadata": {
        "colab": {
          "base_uri": "https://localhost:8080/"
        },

        "id": "03BOx_1shVRV",
        "outputId": "fdf28d17-7ed6-4bdc-c4b5-b43852569aae"

      },
      "execution_count": 2,
      "outputs": [
        {
          "output_type": "stream",
          "name": "stdout",
          "text": [
            "Mounted at /content/drive\n"
          ]
        }
      ]
    },
    {
      "cell_type": "code",
      "source": [
        "#import Dataset\n",
        "data = pd.read_csv('/content/drive/MyDrive/dataset/Heart_Disease_Prediction.csv')"
      ],
      "metadata": {

        "id": "Z0Mpt9nTha0r"

      },
      "execution_count": 3,
      "outputs": []
    },
    {
      "cell_type": "code",
      "source": [
        "#View Data\n",
        "data"
      ],
      "metadata": {
        "colab": {
          "base_uri": "https://localhost:8080/",
          "height": 485
        },

        "id": "prVsQH3Ih5Rc",

      },
      "execution_count": 4,
      "outputs": [
        {
          "output_type": "execute_result",
          "data": {
            "text/plain": [
              "     Age  Sex  Chest pain type   BP  Cholesterol  FBS over 120  EKG results  \\\n",
              "0     70    1                4  130          322             0            2   \n",
              "1     67    0                3  115          564             0            2   \n",
              "2     57    1                2  124          261             0            0   \n",
              "3     64    1                4  128          263             0            0   \n",
              "4     74    0                2  120          269             0            2   \n",
              "..   ...  ...              ...  ...          ...           ...          ...   \n",
              "265   52    1                3  172          199             1            0   \n",
              "266   44    1                2  120          263             0            0   \n",
              "267   56    0                2  140          294             0            2   \n",
              "268   57    1                4  140          192             0            0   \n",
              "269   67    1                4  160          286             0            2   \n",
              "\n",
              "     Max HR  Exercise angina  ST depression  Slope of ST  \\\n",
              "0       109                0            2.4            2   \n",
              "1       160                0            1.6            2   \n",
              "2       141                0            0.3            1   \n",
              "3       105                1            0.2            2   \n",
              "4       121                1            0.2            1   \n",
              "..      ...              ...            ...          ...   \n",
              "265     162                0            0.5            1   \n",
              "266     173                0            0.0            1   \n",
              "267     153                0            1.3            2   \n",
              "268     148                0            0.4            2   \n",
              "269     108                1            1.5            2   \n",
              "\n",
              "     Number of vessels fluro  Thallium Heart Disease  \n",
              "0                          3         3      Presence  \n",
              "1                          0         7       Absence  \n",
              "2                          0         7      Presence  \n",
              "3                          1         7       Absence  \n",
              "4                          1         3       Absence  \n",
              "..                       ...       ...           ...  \n",
              "265                        0         7       Absence  \n",
              "266                        0         7       Absence  \n",
              "267                        0         3       Absence  \n",
              "268                        0         6       Absence  \n",
              "269                        3         3      Presence  \n",
              "\n",
              "[270 rows x 14 columns]"
            ],
            "text/html": [
              "\n",


              "    <div class=\"colab-df-container\">\n",
              "      <div>\n",
              "<style scoped>\n",
              "    .dataframe tbody tr th:only-of-type {\n",
              "        vertical-align: middle;\n",
              "    }\n",
              "\n",
              "    .dataframe tbody tr th {\n",
              "        vertical-align: top;\n",
              "    }\n",
              "\n",
              "    .dataframe thead th {\n",
              "        text-align: right;\n",
              "    }\n",
              "</style>\n",
              "<table border=\"1\" class=\"dataframe\">\n",
              "  <thead>\n",
              "    <tr style=\"text-align: right;\">\n",
              "      <th></th>\n",
              "      <th>Age</th>\n",
              "      <th>Sex</th>\n",
              "      <th>Chest pain type</th>\n",
              "      <th>BP</th>\n",
              "      <th>Cholesterol</th>\n",
              "      <th>FBS over 120</th>\n",
              "      <th>EKG results</th>\n",
              "      <th>Max HR</th>\n",
              "      <th>Exercise angina</th>\n",
              "      <th>ST depression</th>\n",
              "      <th>Slope of ST</th>\n",
              "      <th>Number of vessels fluro</th>\n",
              "      <th>Thallium</th>\n",
              "      <th>Heart Disease</th>\n",
              "    </tr>\n",
              "  </thead>\n",
              "  <tbody>\n",
              "    <tr>\n",
              "      <th>0</th>\n",
              "      <td>70</td>\n",
              "      <td>1</td>\n",
              "      <td>4</td>\n",
              "      <td>130</td>\n",
              "      <td>322</td>\n",
              "      <td>0</td>\n",
              "      <td>2</td>\n",
              "      <td>109</td>\n",
              "      <td>0</td>\n",
              "      <td>2.4</td>\n",
              "      <td>2</td>\n",
              "      <td>3</td>\n",
              "      <td>3</td>\n",
              "      <td>Presence</td>\n",
              "    </tr>\n",
              "    <tr>\n",
              "      <th>1</th>\n",
              "      <td>67</td>\n",
              "      <td>0</td>\n",
              "      <td>3</td>\n",
              "      <td>115</td>\n",
              "      <td>564</td>\n",
              "      <td>0</td>\n",
              "      <td>2</td>\n",
              "      <td>160</td>\n",
              "      <td>0</td>\n",
              "      <td>1.6</td>\n",
              "      <td>2</td>\n",
              "      <td>0</td>\n",
              "      <td>7</td>\n",
              "      <td>Absence</td>\n",
              "    </tr>\n",
              "    <tr>\n",
              "      <th>2</th>\n",
              "      <td>57</td>\n",
              "      <td>1</td>\n",
              "      <td>2</td>\n",
              "      <td>124</td>\n",
              "      <td>261</td>\n",
              "      <td>0</td>\n",
              "      <td>0</td>\n",
              "      <td>141</td>\n",
              "      <td>0</td>\n",
              "      <td>0.3</td>\n",
              "      <td>1</td>\n",
              "      <td>0</td>\n",
              "      <td>7</td>\n",
              "      <td>Presence</td>\n",
              "    </tr>\n",
              "    <tr>\n",
              "      <th>3</th>\n",
              "      <td>64</td>\n",
              "      <td>1</td>\n",
              "      <td>4</td>\n",
              "      <td>128</td>\n",
              "      <td>263</td>\n",
              "      <td>0</td>\n",
              "      <td>0</td>\n",
              "      <td>105</td>\n",
              "      <td>1</td>\n",
              "      <td>0.2</td>\n",
              "      <td>2</td>\n",
              "      <td>1</td>\n",
              "      <td>7</td>\n",
              "      <td>Absence</td>\n",
              "    </tr>\n",
              "    <tr>\n",
              "      <th>4</th>\n",
              "      <td>74</td>\n",
              "      <td>0</td>\n",
              "      <td>2</td>\n",
              "      <td>120</td>\n",
              "      <td>269</td>\n",
              "      <td>0</td>\n",
              "      <td>2</td>\n",
              "      <td>121</td>\n",
              "      <td>1</td>\n",
              "      <td>0.2</td>\n",
              "      <td>1</td>\n",
              "      <td>1</td>\n",
              "      <td>3</td>\n",
              "      <td>Absence</td>\n",
              "    </tr>\n",
              "    <tr>\n",
              "      <th>...</th>\n",
              "      <td>...</td>\n",
              "      <td>...</td>\n",
              "      <td>...</td>\n",
              "      <td>...</td>\n",
              "      <td>...</td>\n",
              "      <td>...</td>\n",
              "      <td>...</td>\n",
              "      <td>...</td>\n",
              "      <td>...</td>\n",
              "      <td>...</td>\n",
              "      <td>...</td>\n",
              "      <td>...</td>\n",
              "      <td>...</td>\n",
              "      <td>...</td>\n",
              "    </tr>\n",
              "    <tr>\n",
              "      <th>265</th>\n",
              "      <td>52</td>\n",
              "      <td>1</td>\n",
              "      <td>3</td>\n",
              "      <td>172</td>\n",
              "      <td>199</td>\n",
              "      <td>1</td>\n",
              "      <td>0</td>\n",
              "      <td>162</td>\n",
              "      <td>0</td>\n",
              "      <td>0.5</td>\n",
              "      <td>1</td>\n",
              "      <td>0</td>\n",
              "      <td>7</td>\n",
              "      <td>Absence</td>\n",
              "    </tr>\n",
              "    <tr>\n",
              "      <th>266</th>\n",
              "      <td>44</td>\n",
              "      <td>1</td>\n",
              "      <td>2</td>\n",
              "      <td>120</td>\n",
              "      <td>263</td>\n",
              "      <td>0</td>\n",
              "      <td>0</td>\n",
              "      <td>173</td>\n",
              "      <td>0</td>\n",
              "      <td>0.0</td>\n",
              "      <td>1</td>\n",
              "      <td>0</td>\n",
              "      <td>7</td>\n",
              "      <td>Absence</td>\n",
              "    </tr>\n",
              "    <tr>\n",
              "      <th>267</th>\n",
              "      <td>56</td>\n",
              "      <td>0</td>\n",
              "      <td>2</td>\n",
              "      <td>140</td>\n",
              "      <td>294</td>\n",
              "      <td>0</td>\n",
              "      <td>2</td>\n",
              "      <td>153</td>\n",
              "      <td>0</td>\n",
              "      <td>1.3</td>\n",
              "      <td>2</td>\n",
              "      <td>0</td>\n",
              "      <td>3</td>\n",
              "      <td>Absence</td>\n",
              "    </tr>\n",
              "    <tr>\n",
              "      <th>268</th>\n",
              "      <td>57</td>\n",
              "      <td>1</td>\n",
              "      <td>4</td>\n",
              "      <td>140</td>\n",
              "      <td>192</td>\n",
              "      <td>0</td>\n",
              "      <td>0</td>\n",
              "      <td>148</td>\n",
              "      <td>0</td>\n",
              "      <td>0.4</td>\n",
              "      <td>2</td>\n",
              "      <td>0</td>\n",
              "      <td>6</td>\n",
              "      <td>Absence</td>\n",
              "    </tr>\n",
              "    <tr>\n",
              "      <th>269</th>\n",
              "      <td>67</td>\n",
              "      <td>1</td>\n",
              "      <td>4</td>\n",
              "      <td>160</td>\n",
              "      <td>286</td>\n",
              "      <td>0</td>\n",
              "      <td>2</td>\n",
              "      <td>108</td>\n",
              "      <td>1</td>\n",
              "      <td>1.5</td>\n",
              "      <td>2</td>\n",
              "      <td>3</td>\n",
              "      <td>3</td>\n",
              "      <td>Presence</td>\n",
              "    </tr>\n",
              "  </tbody>\n",
              "</table>\n",
              "<p>270 rows × 14 columns</p>\n",
              "</div>\n",

              "      <button class=\"colab-df-convert\" onclick=\"convertToInteractive('df-d4020a79-643a-4a8e-965a-fe03c8f09953')\"\n",

              "              title=\"Convert this dataframe to an interactive table.\"\n",
              "              style=\"display:none;\">\n",
              "        \n",
              "  <svg xmlns=\"http://www.w3.org/2000/svg\" height=\"24px\"viewBox=\"0 0 24 24\"\n",
              "       width=\"24px\">\n",
              "    <path d=\"M0 0h24v24H0V0z\" fill=\"none\"/>\n",
              "    <path d=\"M18.56 5.44l.94 2.06.94-2.06 2.06-.94-2.06-.94-.94-2.06-.94 2.06-2.06.94zm-11 1L8.5 8.5l.94-2.06 2.06-.94-2.06-.94L8.5 2.5l-.94 2.06-2.06.94zm10 10l.94 2.06.94-2.06 2.06-.94-2.06-.94-.94-2.06-.94 2.06-2.06.94z\"/><path d=\"M17.41 7.96l-1.37-1.37c-.4-.4-.92-.59-1.43-.59-.52 0-1.04.2-1.43.59L10.3 9.45l-7.72 7.72c-.78.78-.78 2.05 0 2.83L4 21.41c.39.39.9.59 1.41.59.51 0 1.02-.2 1.41-.59l7.78-7.78 2.81-2.81c.8-.78.8-2.07 0-2.86zM5.41 20L4 18.59l7.72-7.72 1.47 1.35L5.41 20z\"/>\n",
              "  </svg>\n",
              "      </button>\n",
              "      \n",
              "  <style>\n",
              "    .colab-df-container {\n",
              "      display:flex;\n",
              "      flex-wrap:wrap;\n",
              "      gap: 12px;\n",
              "    }\n",
              "\n",
              "    .colab-df-convert {\n",
              "      background-color: #E8F0FE;\n",
              "      border: none;\n",
              "      border-radius: 50%;\n",
              "      cursor: pointer;\n",
              "      display: none;\n",
              "      fill: #1967D2;\n",
              "      height: 32px;\n",
              "      padding: 0 0 0 0;\n",
              "      width: 32px;\n",
              "    }\n",
              "\n",
              "    .colab-df-convert:hover {\n",
              "      background-color: #E2EBFA;\n",
              "      box-shadow: 0px 1px 2px rgba(60, 64, 67, 0.3), 0px 1px 3px 1px rgba(60, 64, 67, 0.15);\n",
              "      fill: #174EA6;\n",
              "    }\n",
              "\n",
              "    [theme=dark] .colab-df-convert {\n",
              "      background-color: #3B4455;\n",
              "      fill: #D2E3FC;\n",
              "    }\n",
              "\n",
              "    [theme=dark] .colab-df-convert:hover {\n",
              "      background-color: #434B5C;\n",
              "      box-shadow: 0px 1px 3px 1px rgba(0, 0, 0, 0.15);\n",
              "      filter: drop-shadow(0px 1px 2px rgba(0, 0, 0, 0.3));\n",
              "      fill: #FFFFFF;\n",
              "    }\n",
              "  </style>\n",
              "\n",
              "      <script>\n",
              "        const buttonEl =\n",

              "          document.querySelector('#df-d4020a79-643a-4a8e-965a-fe03c8f09953 button.colab-df-convert');\n",

              "        buttonEl.style.display =\n",
              "          google.colab.kernel.accessAllowed ? 'block' : 'none';\n",
              "\n",
              "        async function convertToInteractive(key) {\n",

              "          const element = document.querySelector('#df-d4020a79-643a-4a8e-965a-fe03c8f09953');\n",

              "          const dataTable =\n",
              "            await google.colab.kernel.invokeFunction('convertToInteractive',\n",
              "                                                     [key], {});\n",
              "          if (!dataTable) return;\n",
              "\n",
              "          const docLinkHtml = 'Like what you see? Visit the ' +\n",
              "            '<a target=\"_blank\" href=https://colab.research.google.com/notebooks/data_table.ipynb>data table notebook</a>'\n",
              "            + ' to learn more about interactive tables.';\n",
              "          element.innerHTML = '';\n",
              "          dataTable['output_type'] = 'display_data';\n",
              "          await google.colab.output.renderOutput(dataTable, element);\n",
              "          const docLink = document.createElement('div');\n",
              "          docLink.innerHTML = docLinkHtml;\n",
              "          element.appendChild(docLink);\n",
              "        }\n",
              "      </script>\n",
              "    </div>\n",
              "  </div>\n",
              "  "
            ]
          },
          "metadata": {},
          "execution_count": 4
        }
      ]
    },
    {
      "cell_type": "code",
      "source": [
        "import matplotlib.pyplot as plt\n",
        "import seaborn as sns\n",
        "from sklearn.linear_model import LogisticRegression\n",
        "from sklearn.metrics import classification_report\n",
        "from sklearn.metrics import accuracy_score\n",
        "from sklearn.model_selection import train_test_split"
      ],
      "metadata": {

        "id": "VI-YPZBFh8YM"

      },
      "execution_count": 5,
      "outputs": []
    },
    {

      "cell_type": "code",
      "source": [
        "#convert string data to integer\n",
        "heart_mapping = {'Presence': 1, 'Absence': 0}\n",
        "data['Heart Disease'] = data['Heart Disease'].map(heart_mapping)"
      ],
      "metadata": {
        "id": "vLQ8GsRi-5gM"
      },
      "execution_count": 6,
      "outputs": []
=======
      "cell_type": "markdown",
      "source": [
        "#Data Analysis and Visualization"
      ],
      "metadata": {
        "id": "0r18Z4c0iR_-"
      }

    },
    {
      "cell_type": "code",
      "source": [

        "#After mapping data\n",
        "data"

        "def draw_histograms(dataframe, features, rows, cols):\n",
        "    fig=plt.figure(figsize=(20,20))\n",
        "    for i, feature in enumerate(features):\n",
        "        ax=fig.add_subplot(rows,cols,i+1)\n",
        "        dataframe[feature].hist(bins=20,ax=ax,facecolor='blue')\n",
        "        ax.set_title(feature+\" Distribution\",color='Red')\n",
        "        \n",
        "    fig.tight_layout()  \n",
        "    plt.show()\n",
        "draw_histograms(data,data.columns,6,3)"

      ],
      "metadata": {
        "colab": {
          "base_uri": "https://localhost:8080/",

          "height": 485
        },
        "id": "Kau5N4Ix-_p7",
        "outputId": "83e4e668-8ad3-47e5-bb17-4970a5fb32e8"

          "height": 1000
        },
        "id": "AnVBDVqriTol",
        "outputId": "93776674-b323-4a32-ab8c-f2dddda0ea87"
      },
      "execution_count": 6,
      "outputs": [
        {
          "output_type": "display_data",
          "data": {
            "text/plain": [
              "<Figure size 1440x1440 with 14 Axes>"
            ],
            "image/png": "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\n"
          },
          "metadata": {
            "needs_background": "light"
          }
        }
      ]
    },
    {
      "cell_type": "code",
      "source": [
        "!pip install plotly matplotlib seaborn --quiet"
      ],
      "metadata": {
        "id": "D3bpCQjBibMz"

      },
      "execution_count": 7,
      "outputs": [
        {
          "output_type": "execute_result",
          "data": {
            "text/plain": [
              "     Age  Sex  Chest pain type   BP  Cholesterol  FBS over 120  EKG results  \\\n",
              "0     70    1                4  130          322             0            2   \n",
              "1     67    0                3  115          564             0            2   \n",
              "2     57    1                2  124          261             0            0   \n",
              "3     64    1                4  128          263             0            0   \n",
              "4     74    0                2  120          269             0            2   \n",
              "..   ...  ...              ...  ...          ...           ...          ...   \n",
              "265   52    1                3  172          199             1            0   \n",
              "266   44    1                2  120          263             0            0   \n",
              "267   56    0                2  140          294             0            2   \n",
              "268   57    1                4  140          192             0            0   \n",
              "269   67    1                4  160          286             0            2   \n",
              "\n",
              "     Max HR  Exercise angina  ST depression  Slope of ST  \\\n",
              "0       109                0            2.4            2   \n",
              "1       160                0            1.6            2   \n",
              "2       141                0            0.3            1   \n",
              "3       105                1            0.2            2   \n",
              "4       121                1            0.2            1   \n",
              "..      ...              ...            ...          ...   \n",
              "265     162                0            0.5            1   \n",
              "266     173                0            0.0            1   \n",
              "267     153                0            1.3            2   \n",
              "268     148                0            0.4            2   \n",
              "269     108                1            1.5            2   \n",
              "\n",
              "     Number of vessels fluro  Thallium  Heart Disease  \n",
              "0                          3         3              1  \n",
              "1                          0         7              0  \n",
              "2                          0         7              1  \n",
              "3                          1         7              0  \n",
              "4                          1         3              0  \n",
              "..                       ...       ...            ...  \n",
              "265                        0         7              0  \n",
              "266                        0         7              0  \n",
              "267                        0         3              0  \n",
              "268                        0         6              0  \n",
              "269                        3         3              1  \n",
              "\n",
              "[270 rows x 14 columns]"
            ],
            "text/html": [
              "\n",
              "  <div id=\"df-fc39307e-b59c-4dd7-8296-45da83d46f88\">\n",
              "    <div class=\"colab-df-container\">\n",
              "      <div>\n",
              "<style scoped>\n",
              "    .dataframe tbody tr th:only-of-type {\n",
              "        vertical-align: middle;\n",
              "    }\n",
              "\n",
              "    .dataframe tbody tr th {\n",
              "        vertical-align: top;\n",
              "    }\n",
              "\n",
              "    .dataframe thead th {\n",
              "        text-align: right;\n",
              "    }\n",
              "</style>\n",
              "<table border=\"1\" class=\"dataframe\">\n",
              "  <thead>\n",
              "    <tr style=\"text-align: right;\">\n",
              "      <th></th>\n",
              "      <th>Age</th>\n",
              "      <th>Sex</th>\n",
              "      <th>Chest pain type</th>\n",
              "      <th>BP</th>\n",
              "      <th>Cholesterol</th>\n",
              "      <th>FBS over 120</th>\n",
              "      <th>EKG results</th>\n",
              "      <th>Max HR</th>\n",
              "      <th>Exercise angina</th>\n",
              "      <th>ST depression</th>\n",
              "      <th>Slope of ST</th>\n",
              "      <th>Number of vessels fluro</th>\n",
              "      <th>Thallium</th>\n",
              "      <th>Heart Disease</th>\n",
              "    </tr>\n",
              "  </thead>\n",
              "  <tbody>\n",
              "    <tr>\n",
              "      <th>0</th>\n",
              "      <td>70</td>\n",
              "      <td>1</td>\n",
              "      <td>4</td>\n",
              "      <td>130</td>\n",
              "      <td>322</td>\n",
              "      <td>0</td>\n",
              "      <td>2</td>\n",
              "      <td>109</td>\n",
              "      <td>0</td>\n",
              "      <td>2.4</td>\n",
              "      <td>2</td>\n",
              "      <td>3</td>\n",
              "      <td>3</td>\n",
              "      <td>1</td>\n",
              "    </tr>\n",
              "    <tr>\n",
              "      <th>1</th>\n",
              "      <td>67</td>\n",
              "      <td>0</td>\n",
              "      <td>3</td>\n",
              "      <td>115</td>\n",
              "      <td>564</td>\n",
              "      <td>0</td>\n",
              "      <td>2</td>\n",
              "      <td>160</td>\n",
              "      <td>0</td>\n",
              "      <td>1.6</td>\n",
              "      <td>2</td>\n",
              "      <td>0</td>\n",
              "      <td>7</td>\n",
              "      <td>0</td>\n",
              "    </tr>\n",
              "    <tr>\n",
              "      <th>2</th>\n",
              "      <td>57</td>\n",
              "      <td>1</td>\n",
              "      <td>2</td>\n",
              "      <td>124</td>\n",
              "      <td>261</td>\n",
              "      <td>0</td>\n",
              "      <td>0</td>\n",
              "      <td>141</td>\n",
              "      <td>0</td>\n",
              "      <td>0.3</td>\n",
              "      <td>1</td>\n",
              "      <td>0</td>\n",
              "      <td>7</td>\n",
              "      <td>1</td>\n",
              "    </tr>\n",
              "    <tr>\n",
              "      <th>3</th>\n",
              "      <td>64</td>\n",
              "      <td>1</td>\n",
              "      <td>4</td>\n",
              "      <td>128</td>\n",
              "      <td>263</td>\n",
              "      <td>0</td>\n",
              "      <td>0</td>\n",
              "      <td>105</td>\n",
              "      <td>1</td>\n",
              "      <td>0.2</td>\n",
              "      <td>2</td>\n",
              "      <td>1</td>\n",
              "      <td>7</td>\n",
              "      <td>0</td>\n",
              "    </tr>\n",
              "    <tr>\n",
              "      <th>4</th>\n",
              "      <td>74</td>\n",
              "      <td>0</td>\n",
              "      <td>2</td>\n",
              "      <td>120</td>\n",
              "      <td>269</td>\n",
              "      <td>0</td>\n",
              "      <td>2</td>\n",
              "      <td>121</td>\n",
              "      <td>1</td>\n",
              "      <td>0.2</td>\n",
              "      <td>1</td>\n",
              "      <td>1</td>\n",
              "      <td>3</td>\n",
              "      <td>0</td>\n",
              "    </tr>\n",
              "    <tr>\n",
              "      <th>...</th>\n",
              "      <td>...</td>\n",
              "      <td>...</td>\n",
              "      <td>...</td>\n",
              "      <td>...</td>\n",
              "      <td>...</td>\n",
              "      <td>...</td>\n",
              "      <td>...</td>\n",
              "      <td>...</td>\n",
              "      <td>...</td>\n",
              "      <td>...</td>\n",
              "      <td>...</td>\n",
              "      <td>...</td>\n",
              "      <td>...</td>\n",
              "      <td>...</td>\n",
              "    </tr>\n",
              "    <tr>\n",
              "      <th>265</th>\n",
              "      <td>52</td>\n",
              "      <td>1</td>\n",
              "      <td>3</td>\n",
              "      <td>172</td>\n",
              "      <td>199</td>\n",
              "      <td>1</td>\n",
              "      <td>0</td>\n",
              "      <td>162</td>\n",
              "      <td>0</td>\n",
              "      <td>0.5</td>\n",
              "      <td>1</td>\n",
              "      <td>0</td>\n",
              "      <td>7</td>\n",
              "      <td>0</td>\n",
              "    </tr>\n",
              "    <tr>\n",
              "      <th>266</th>\n",
              "      <td>44</td>\n",
              "      <td>1</td>\n",
              "      <td>2</td>\n",
              "      <td>120</td>\n",
              "      <td>263</td>\n",
              "      <td>0</td>\n",
              "      <td>0</td>\n",
              "      <td>173</td>\n",
              "      <td>0</td>\n",
              "      <td>0.0</td>\n",
              "      <td>1</td>\n",
              "      <td>0</td>\n",
              "      <td>7</td>\n",
              "      <td>0</td>\n",
              "    </tr>\n",
              "    <tr>\n",
              "      <th>267</th>\n",
              "      <td>56</td>\n",
              "      <td>0</td>\n",
              "      <td>2</td>\n",
              "      <td>140</td>\n",
              "      <td>294</td>\n",
              "      <td>0</td>\n",
              "      <td>2</td>\n",
              "      <td>153</td>\n",
              "      <td>0</td>\n",
              "      <td>1.3</td>\n",
              "      <td>2</td>\n",
              "      <td>0</td>\n",
              "      <td>3</td>\n",
              "      <td>0</td>\n",
              "    </tr>\n",
              "    <tr>\n",
              "      <th>268</th>\n",
              "      <td>57</td>\n",
              "      <td>1</td>\n",
              "      <td>4</td>\n",
              "      <td>140</td>\n",
              "      <td>192</td>\n",
              "      <td>0</td>\n",
              "      <td>0</td>\n",
              "      <td>148</td>\n",
              "      <td>0</td>\n",
              "      <td>0.4</td>\n",
              "      <td>2</td>\n",
              "      <td>0</td>\n",
              "      <td>6</td>\n",
              "      <td>0</td>\n",
              "    </tr>\n",
              "    <tr>\n",
              "      <th>269</th>\n",
              "      <td>67</td>\n",
              "      <td>1</td>\n",
              "      <td>4</td>\n",
              "      <td>160</td>\n",
              "      <td>286</td>\n",
              "      <td>0</td>\n",
              "      <td>2</td>\n",
              "      <td>108</td>\n",
              "      <td>1</td>\n",
              "      <td>1.5</td>\n",
              "      <td>2</td>\n",
              "      <td>3</td>\n",
              "      <td>3</td>\n",
              "      <td>1</td>\n",
              "    </tr>\n",
              "  </tbody>\n",
              "</table>\n",
              "<p>270 rows × 14 columns</p>\n",
              "</div>\n",
              "      <button class=\"colab-df-convert\" onclick=\"convertToInteractive('df-fc39307e-b59c-4dd7-8296-45da83d46f88')\"\n",
              "              title=\"Convert this dataframe to an interactive table.\"\n",
              "              style=\"display:none;\">\n",
              "        \n",
              "  <svg xmlns=\"http://www.w3.org/2000/svg\" height=\"24px\"viewBox=\"0 0 24 24\"\n",
              "       width=\"24px\">\n",
              "    <path d=\"M0 0h24v24H0V0z\" fill=\"none\"/>\n",
              "    <path d=\"M18.56 5.44l.94 2.06.94-2.06 2.06-.94-2.06-.94-.94-2.06-.94 2.06-2.06.94zm-11 1L8.5 8.5l.94-2.06 2.06-.94-2.06-.94L8.5 2.5l-.94 2.06-2.06.94zm10 10l.94 2.06.94-2.06 2.06-.94-2.06-.94-.94-2.06-.94 2.06-2.06.94z\"/><path d=\"M17.41 7.96l-1.37-1.37c-.4-.4-.92-.59-1.43-.59-.52 0-1.04.2-1.43.59L10.3 9.45l-7.72 7.72c-.78.78-.78 2.05 0 2.83L4 21.41c.39.39.9.59 1.41.59.51 0 1.02-.2 1.41-.59l7.78-7.78 2.81-2.81c.8-.78.8-2.07 0-2.86zM5.41 20L4 18.59l7.72-7.72 1.47 1.35L5.41 20z\"/>\n",
              "  </svg>\n",
              "      </button>\n",
              "      \n",
              "  <style>\n",
              "    .colab-df-container {\n",
              "      display:flex;\n",
              "      flex-wrap:wrap;\n",
              "      gap: 12px;\n",
              "    }\n",
              "\n",
              "    .colab-df-convert {\n",
              "      background-color: #E8F0FE;\n",
              "      border: none;\n",
              "      border-radius: 50%;\n",
              "      cursor: pointer;\n",
              "      display: none;\n",
              "      fill: #1967D2;\n",
              "      height: 32px;\n",
              "      padding: 0 0 0 0;\n",
              "      width: 32px;\n",
              "    }\n",
              "\n",
              "    .colab-df-convert:hover {\n",
              "      background-color: #E2EBFA;\n",
              "      box-shadow: 0px 1px 2px rgba(60, 64, 67, 0.3), 0px 1px 3px 1px rgba(60, 64, 67, 0.15);\n",
              "      fill: #174EA6;\n",
              "    }\n",
              "\n",
              "    [theme=dark] .colab-df-convert {\n",
              "      background-color: #3B4455;\n",
              "      fill: #D2E3FC;\n",
              "    }\n",
              "\n",
              "    [theme=dark] .colab-df-convert:hover {\n",
              "      background-color: #434B5C;\n",
              "      box-shadow: 0px 1px 3px 1px rgba(0, 0, 0, 0.15);\n",
              "      filter: drop-shadow(0px 1px 2px rgba(0, 0, 0, 0.3));\n",
              "      fill: #FFFFFF;\n",
              "    }\n",
              "  </style>\n",
              "\n",
              "      <script>\n",
              "        const buttonEl =\n",
              "          document.querySelector('#df-fc39307e-b59c-4dd7-8296-45da83d46f88 button.colab-df-convert');\n",
              "        buttonEl.style.display =\n",
              "          google.colab.kernel.accessAllowed ? 'block' : 'none';\n",
              "\n",
              "        async function convertToInteractive(key) {\n",
              "          const element = document.querySelector('#df-fc39307e-b59c-4dd7-8296-45da83d46f88');\n",
              "          const dataTable =\n",
              "            await google.colab.kernel.invokeFunction('convertToInteractive',\n",
              "                                                     [key], {});\n",
              "          if (!dataTable) return;\n",
              "\n",
              "          const docLinkHtml = 'Like what you see? Visit the ' +\n",
              "            '<a target=\"_blank\" href=https://colab.research.google.com/notebooks/data_table.ipynb>data table notebook</a>'\n",
              "            + ' to learn more about interactive tables.';\n",
              "          element.innerHTML = '';\n",
              "          dataTable['output_type'] = 'display_data';\n",
              "          await google.colab.output.renderOutput(dataTable, element);\n",
              "          const docLink = document.createElement('div');\n",
              "          docLink.innerHTML = docLinkHtml;\n",
              "          element.appendChild(docLink);\n",
              "        }\n",
              "      </script>\n",
              "    </div>\n",
              "  </div>\n",
              "  "
            ]
          },
          "metadata": {},
          "execution_count": 7
        }
      ]
    },
    {
      "cell_type": "markdown",
      "source": [
        "Missing Values"
      ],
      "metadata": {
        "id": "SVfHavvr_Fpa"
      }
    },
    {
      "cell_type": "code",
      "source": [
        "#Finding Null Values\n",
        "data.isnull().sum()"
      ],
      "metadata": {
        "colab": {
          "base_uri": "https://localhost:8080/"
        },
        "id": "oXDADPhL_MeZ",
        "outputId": "a96d73f4-1b86-485f-acc4-19fa5cbf3c8c"
      },
      "execution_count": 8,
      "outputs": [
        {
          "output_type": "execute_result",
          "data": {
            "text/plain": [
              "Age                        0\n",
              "Sex                        0\n",
              "Chest pain type            0\n",
              "BP                         0\n",
              "Cholesterol                0\n",
              "FBS over 120               0\n",
              "EKG results                0\n",
              "Max HR                     0\n",
              "Exercise angina            0\n",
              "ST depression              0\n",
              "Slope of ST                0\n",
              "Number of vessels fluro    0\n",
              "Thallium                   0\n",
              "Heart Disease              0\n",
              "dtype: int64"
            ]
          },
          "metadata": {},
          "execution_count": 8
        }
      ]
    },
    {
      "cell_type": "code",
      "source": [
        "count=0\n",
        "for i in data.isnull().sum(axis=1):\n",
        "    if i>0:\n",
        "        count=count+1\n",
        "print('missing values rows ', count)"
      ],
      "metadata": {
        "colab": {
          "base_uri": "https://localhost:8080/"
        },
        "id": "IwR2CRsa_QXv",
        "outputId": "9430e389-eff4-4cd7-aab0-cb67f679f724"
      },
      "execution_count": 9,
      "outputs": [
        {
          "output_type": "stream",
          "name": "stdout",
          "text": [
            "missing values rows  0\n"
          ]
        }
      ]
    },
    {
      "cell_type": "markdown",
      "source": [
        "The dataset has no null values."
      ],
      "metadata": {
        "id": "foc70ksc_dOG"
      }
    },
    {
      "cell_type": "markdown",
      "source": [
        "#Predictions on a Single Input\n"
      ],
      "metadata": {
        "id": "0vSlf1st_u0_"
      }
    },
    {
      "cell_type": "markdown",
      "source": [
        "Input new data"
      ],
      "metadata": {
        "id": "7eegbL-m_wWn"
      }
    },
    {
      "cell_type": "code",
      "source": [
        "newinput = {'Age': 55,\t'Sex': 1,\t'Chest pain type': 1,\t'BP': 140,\t'Cholesterol': 200,\t'FBS over 120': 0,\t'EKG results': 2,'Max HR': 180,\t'Exercise angina': 0,\t'ST depression':0,\t'Slope of ST': 1,\t'Number of vessels fluro': 0,\t'Thallium': 3}"
      ],
      "metadata": {
        "id": "QPKAGBMK_ypC"
      },
      "execution_count": 10,
      "outputs": []
    },
    {
      "cell_type": "markdown",
      "source": [
        "Convert data to a dataframe in pandas"
      ],
      "metadata": {
        "id": "BqKOG-n5_31u"
      }
    },
    {
      "cell_type": "code",
      "source": [
        "newinput_df = pd.DataFrame([newinput])"
      ],
      "metadata": {
        "id": "g03Pjc1u_8tM"
      },
      "execution_count": 11,
      "outputs": []
    },
    {
      "cell_type": "code",
      "source": [
        "newinput_df"
      ],
      "metadata": {
        "colab": {
          "base_uri": "https://localhost:8080/",
          "height": 142
        },
        "id": "JAjDgvXT_-vi",
        "outputId": "c9de79cc-54ad-47e7-b12e-7b8d48e4d409"
      },
      "execution_count": 12,
      "outputs": [
        {
          "output_type": "execute_result",
          "data": {
            "text/plain": [
              "   Age  Sex  Chest pain type   BP  Cholesterol  FBS over 120  EKG results  \\\n",
              "0   55    1                1  140          200             0            2   \n",
              "\n",
              "   Max HR  Exercise angina  ST depression  Slope of ST  \\\n",
              "0     180                0              0            1   \n",
              "\n",
              "   Number of vessels fluro  Thallium  \n",
              "0                        0         3  "
            ],
            "text/html": [
              "\n",
              "  <div id=\"df-88e0b3f8-3b1c-42a9-a1b0-88fbdd4e2d40\">\n",
              "    <div class=\"colab-df-container\">\n",
              "      <div>\n",
              "<style scoped>\n",
              "    .dataframe tbody tr th:only-of-type {\n",
              "        vertical-align: middle;\n",
              "    }\n",
              "\n",
              "    .dataframe tbody tr th {\n",
              "        vertical-align: top;\n",
              "    }\n",
              "\n",
              "    .dataframe thead th {\n",
              "        text-align: right;\n",
              "    }\n",
              "</style>\n",
              "<table border=\"1\" class=\"dataframe\">\n",
              "  <thead>\n",
              "    <tr style=\"text-align: right;\">\n",
              "      <th></th>\n",
              "      <th>Age</th>\n",
              "      <th>Sex</th>\n",
              "      <th>Chest pain type</th>\n",
              "      <th>BP</th>\n",
              "      <th>Cholesterol</th>\n",
              "      <th>FBS over 120</th>\n",
              "      <th>EKG results</th>\n",
              "      <th>Max HR</th>\n",
              "      <th>Exercise angina</th>\n",
              "      <th>ST depression</th>\n",
              "      <th>Slope of ST</th>\n",
              "      <th>Number of vessels fluro</th>\n",
              "      <th>Thallium</th>\n",
              "    </tr>\n",
              "  </thead>\n",
              "  <tbody>\n",
              "    <tr>\n",
              "      <th>0</th>\n",
              "      <td>55</td>\n",
              "      <td>1</td>\n",
              "      <td>1</td>\n",
              "      <td>140</td>\n",
              "      <td>200</td>\n",
              "      <td>0</td>\n",
              "      <td>2</td>\n",
              "      <td>180</td>\n",
              "      <td>0</td>\n",
              "      <td>0</td>\n",
              "      <td>1</td>\n",
              "      <td>0</td>\n",
              "      <td>3</td>\n",
              "    </tr>\n",
              "  </tbody>\n",
              "</table>\n",
              "</div>\n",
              "      <button class=\"colab-df-convert\" onclick=\"convertToInteractive('df-88e0b3f8-3b1c-42a9-a1b0-88fbdd4e2d40')\"\n",
              "              title=\"Convert this dataframe to an interactive table.\"\n",
              "              style=\"display:none;\">\n",
              "        \n",
              "  <svg xmlns=\"http://www.w3.org/2000/svg\" height=\"24px\"viewBox=\"0 0 24 24\"\n",
              "       width=\"24px\">\n",
              "    <path d=\"M0 0h24v24H0V0z\" fill=\"none\"/>\n",
              "    <path d=\"M18.56 5.44l.94 2.06.94-2.06 2.06-.94-2.06-.94-.94-2.06-.94 2.06-2.06.94zm-11 1L8.5 8.5l.94-2.06 2.06-.94-2.06-.94L8.5 2.5l-.94 2.06-2.06.94zm10 10l.94 2.06.94-2.06 2.06-.94-2.06-.94-.94-2.06-.94 2.06-2.06.94z\"/><path d=\"M17.41 7.96l-1.37-1.37c-.4-.4-.92-.59-1.43-.59-.52 0-1.04.2-1.43.59L10.3 9.45l-7.72 7.72c-.78.78-.78 2.05 0 2.83L4 21.41c.39.39.9.59 1.41.59.51 0 1.02-.2 1.41-.59l7.78-7.78 2.81-2.81c.8-.78.8-2.07 0-2.86zM5.41 20L4 18.59l7.72-7.72 1.47 1.35L5.41 20z\"/>\n",
              "  </svg>\n",
              "      </button>\n",
              "      \n",
              "  <style>\n",
              "    .colab-df-container {\n",
              "      display:flex;\n",
              "      flex-wrap:wrap;\n",
              "      gap: 12px;\n",
              "    }\n",
              "\n",
              "    .colab-df-convert {\n",
              "      background-color: #E8F0FE;\n",
              "      border: none;\n",
              "      border-radius: 50%;\n",
              "      cursor: pointer;\n",
              "      display: none;\n",
              "      fill: #1967D2;\n",
              "      height: 32px;\n",
              "      padding: 0 0 0 0;\n",
              "      width: 32px;\n",
              "    }\n",
              "\n",
              "    .colab-df-convert:hover {\n",
              "      background-color: #E2EBFA;\n",
              "      box-shadow: 0px 1px 2px rgba(60, 64, 67, 0.3), 0px 1px 3px 1px rgba(60, 64, 67, 0.15);\n",
              "      fill: #174EA6;\n",
              "    }\n",
              "\n",
              "    [theme=dark] .colab-df-convert {\n",
              "      background-color: #3B4455;\n",
              "      fill: #D2E3FC;\n",
              "    }\n",
              "\n",
              "    [theme=dark] .colab-df-convert:hover {\n",
              "      background-color: #434B5C;\n",
              "      box-shadow: 0px 1px 3px 1px rgba(0, 0, 0, 0.15);\n",
              "      filter: drop-shadow(0px 1px 2px rgba(0, 0, 0, 0.3));\n",
              "      fill: #FFFFFF;\n",
              "    }\n",
              "  </style>\n",
              "\n",
              "      <script>\n",
              "        const buttonEl =\n",
              "          document.querySelector('#df-88e0b3f8-3b1c-42a9-a1b0-88fbdd4e2d40 button.colab-df-convert');\n",
              "        buttonEl.style.display =\n",
              "          google.colab.kernel.accessAllowed ? 'block' : 'none';\n",
              "\n",
              "        async function convertToInteractive(key) {\n",
              "          const element = document.querySelector('#df-88e0b3f8-3b1c-42a9-a1b0-88fbdd4e2d40');\n",
              "          const dataTable =\n",
              "            await google.colab.kernel.invokeFunction('convertToInteractive',\n",
              "                                                     [key], {});\n",
              "          if (!dataTable) return;\n",
              "\n",
              "          const docLinkHtml = 'Like what you see? Visit the ' +\n",
              "            '<a target=\"_blank\" href=https://colab.research.google.com/notebooks/data_table.ipynb>data table notebook</a>'\n",
              "            + ' to learn more about interactive tables.';\n",
              "          element.innerHTML = '';\n",
              "          dataTable['output_type'] = 'display_data';\n",
              "          await google.colab.output.renderOutput(dataTable, element);\n",
              "          const docLink = document.createElement('div');\n",
              "          docLink.innerHTML = docLinkHtml;\n",
              "          element.appendChild(docLink);\n",
              "        }\n",
              "      </script>\n",
              "    </div>\n",
              "  </div>\n",
              "  "
            ]
          },
          "metadata": {},
          "execution_count": 12
        }
      ]
    },
    {
      "cell_type": "code",
      "source": [
        "predictions = model.predict(newinput_df) #prediction\n",
        "print(predictions)"
      ],
      "metadata": {
        "id": "FtPFebuDAEI_"
      },
      "execution_count": null,
      "outputs": []
    },
    {
      "cell_type": "markdown",
      "source": [
        "second data row"
      ],
      "metadata": {
        "id": "Qw9VZFiXAGYk"
      }
    },
    {
      "cell_type": "code",
      "source": [
        "newinput_1 = {'Age': 57,\t'Sex': 0,\t'Chest pain type': 4,\t'BP': 140,\t'Cholesterol': 525,\t'FBS over 120': 1,\t'EKG results': 1,'Max HR': 170,\t'Exercise angina': 0,\t'ST depression':2.3,\t'Slope of ST': 2,\t'Number of vessels fluro': 1,\t'Thallium': 7}"
      ],
      "metadata": {
        "id": "yf09D0zCALGn"
      },
      "execution_count": 13,
      "outputs": []
    },
    {
      "cell_type": "code",
      "source": [
        "newinput_1_df = pd.DataFrame([newinput_1])"
      ],
      "metadata": {
        "id": "Haj7ha2QAN1T"
      },
      "execution_count": 14,
      "outputs": []
    },
    {
      "cell_type": "code",
      "source": [
        "newinput_1_df"
      ],
      "metadata": {
        "colab": {
          "base_uri": "https://localhost:8080/",
          "height": 142
        },
        "id": "t73mH5a7AToI",
        "outputId": "c1659483-db4f-48e7-d036-a64f23e06d3b"
      },
      "execution_count": 15,
      "outputs": [
        {
          "output_type": "execute_result",
          "data": {
            "text/plain": [
              "   Age  Sex  Chest pain type   BP  Cholesterol  FBS over 120  EKG results  \\\n",
              "0   57    0                4  140          525             1            1   \n",
              "\n",
              "   Max HR  Exercise angina  ST depression  Slope of ST  \\\n",
              "0     170                0            2.3            2   \n",
              "\n",
              "   Number of vessels fluro  Thallium  \n",
              "0                        1         7  "
            ],
            "text/html": [
              "\n",
              "  <div id=\"df-bf63660a-8617-4c5d-9382-759771a4eefe\">\n",
              "    <div class=\"colab-df-container\">\n",
              "      <div>\n",
              "<style scoped>\n",
              "    .dataframe tbody tr th:only-of-type {\n",
              "        vertical-align: middle;\n",
              "    }\n",
              "\n",
              "    .dataframe tbody tr th {\n",
              "        vertical-align: top;\n",
              "    }\n",
              "\n",
              "    .dataframe thead th {\n",
              "        text-align: right;\n",
              "    }\n",
              "</style>\n",
              "<table border=\"1\" class=\"dataframe\">\n",
              "  <thead>\n",
              "    <tr style=\"text-align: right;\">\n",
              "      <th></th>\n",
              "      <th>Age</th>\n",
              "      <th>Sex</th>\n",
              "      <th>Chest pain type</th>\n",
              "      <th>BP</th>\n",
              "      <th>Cholesterol</th>\n",
              "      <th>FBS over 120</th>\n",
              "      <th>EKG results</th>\n",
              "      <th>Max HR</th>\n",
              "      <th>Exercise angina</th>\n",
              "      <th>ST depression</th>\n",
              "      <th>Slope of ST</th>\n",
              "      <th>Number of vessels fluro</th>\n",
              "      <th>Thallium</th>\n",
              "    </tr>\n",
              "  </thead>\n",
              "  <tbody>\n",
              "    <tr>\n",
              "      <th>0</th>\n",
              "      <td>57</td>\n",
              "      <td>0</td>\n",
              "      <td>4</td>\n",
              "      <td>140</td>\n",
              "      <td>525</td>\n",
              "      <td>1</td>\n",
              "      <td>1</td>\n",
              "      <td>170</td>\n",
              "      <td>0</td>\n",
              "      <td>2.3</td>\n",
              "      <td>2</td>\n",
              "      <td>1</td>\n",
              "      <td>7</td>\n",
              "    </tr>\n",
              "  </tbody>\n",
              "</table>\n",
              "</div>\n",
              "      <button class=\"colab-df-convert\" onclick=\"convertToInteractive('df-bf63660a-8617-4c5d-9382-759771a4eefe')\"\n",
              "              title=\"Convert this dataframe to an interactive table.\"\n",
              "              style=\"display:none;\">\n",
              "        \n",
              "  <svg xmlns=\"http://www.w3.org/2000/svg\" height=\"24px\"viewBox=\"0 0 24 24\"\n",
              "       width=\"24px\">\n",
              "    <path d=\"M0 0h24v24H0V0z\" fill=\"none\"/>\n",
              "    <path d=\"M18.56 5.44l.94 2.06.94-2.06 2.06-.94-2.06-.94-.94-2.06-.94 2.06-2.06.94zm-11 1L8.5 8.5l.94-2.06 2.06-.94-2.06-.94L8.5 2.5l-.94 2.06-2.06.94zm10 10l.94 2.06.94-2.06 2.06-.94-2.06-.94-.94-2.06-.94 2.06-2.06.94z\"/><path d=\"M17.41 7.96l-1.37-1.37c-.4-.4-.92-.59-1.43-.59-.52 0-1.04.2-1.43.59L10.3 9.45l-7.72 7.72c-.78.78-.78 2.05 0 2.83L4 21.41c.39.39.9.59 1.41.59.51 0 1.02-.2 1.41-.59l7.78-7.78 2.81-2.81c.8-.78.8-2.07 0-2.86zM5.41 20L4 18.59l7.72-7.72 1.47 1.35L5.41 20z\"/>\n",
              "  </svg>\n",
              "      </button>\n",
              "      \n",
              "  <style>\n",
              "    .colab-df-container {\n",
              "      display:flex;\n",
              "      flex-wrap:wrap;\n",
              "      gap: 12px;\n",
              "    }\n",
              "\n",
              "    .colab-df-convert {\n",
              "      background-color: #E8F0FE;\n",
              "      border: none;\n",
              "      border-radius: 50%;\n",
              "      cursor: pointer;\n",
              "      display: none;\n",
              "      fill: #1967D2;\n",
              "      height: 32px;\n",
              "      padding: 0 0 0 0;\n",
              "      width: 32px;\n",
              "    }\n",
              "\n",
              "    .colab-df-convert:hover {\n",
              "      background-color: #E2EBFA;\n",
              "      box-shadow: 0px 1px 2px rgba(60, 64, 67, 0.3), 0px 1px 3px 1px rgba(60, 64, 67, 0.15);\n",
              "      fill: #174EA6;\n",
              "    }\n",
              "\n",
              "    [theme=dark] .colab-df-convert {\n",
              "      background-color: #3B4455;\n",
              "      fill: #D2E3FC;\n",
              "    }\n",
              "\n",
              "    [theme=dark] .colab-df-convert:hover {\n",
              "      background-color: #434B5C;\n",
              "      box-shadow: 0px 1px 3px 1px rgba(0, 0, 0, 0.15);\n",
              "      filter: drop-shadow(0px 1px 2px rgba(0, 0, 0, 0.3));\n",
              "      fill: #FFFFFF;\n",
              "    }\n",
              "  </style>\n",
              "\n",
              "      <script>\n",
              "        const buttonEl =\n",
              "          document.querySelector('#df-bf63660a-8617-4c5d-9382-759771a4eefe button.colab-df-convert');\n",
              "        buttonEl.style.display =\n",
              "          google.colab.kernel.accessAllowed ? 'block' : 'none';\n",
              "\n",
              "        async function convertToInteractive(key) {\n",
              "          const element = document.querySelector('#df-bf63660a-8617-4c5d-9382-759771a4eefe');\n",
              "          const dataTable =\n",
              "            await google.colab.kernel.invokeFunction('convertToInteractive',\n",
              "                                                     [key], {});\n",
              "          if (!dataTable) return;\n",
              "\n",
              "          const docLinkHtml = 'Like what you see? Visit the ' +\n",
              "            '<a target=\"_blank\" href=https://colab.research.google.com/notebooks/data_table.ipynb>data table notebook</a>'\n",
              "            + ' to learn more about interactive tables.';\n",
              "          element.innerHTML = '';\n",
              "          dataTable['output_type'] = 'display_data';\n",
              "          await google.colab.output.renderOutput(dataTable, element);\n",
              "          const docLink = document.createElement('div');\n",
              "          docLink.innerHTML = docLinkHtml;\n",
              "          element.appendChild(docLink);\n",
              "        }\n",
              "      </script>\n",
              "    </div>\n",
              "  </div>\n",
              "  "
            ]
          },
          "metadata": {},
          "execution_count": 15
        }
      ]
    },
    {
      "cell_type": "code",
      "source": [
        "predictions_1 = model.predict(newinput_1_df) \n",
        "print(predictions_1)"
      ],
      "metadata": {
        "id": "eRy-nOR4AX5g"
      },
      "execution_count": null,
      "outputs": []
    },
    {
      "cell_type": "code",
      "source": [
        "import plotly.express as px\n",
        "import matplotlib\n",
        "import matplotlib.pyplot as plt\n",
        "import seaborn as sns\n",
        "%matplotlib inline\n",
        "\n",
        "sns.set_style('darkgrid')\n",
        "matplotlib.rcParams['font.size'] = 14\n",
        "matplotlib.rcParams['figure.figsize'] = (10, 6)\n",
        "matplotlib.rcParams['figure.facecolor'] = '#00000000'"
      ],
      "metadata": {
        "id": "Gz0P0kCMicxT"
      },
      "execution_count": 8,
      "outputs": []
    },
    {
      "cell_type": "code",
      "source": [
        "px.histogram(data, \n",
        "             x='Heart Disease', \n",
        "             color='Sex', \n",
        "             title='Heart Disease vs Age')"
      ],
      "metadata": {
        "colab": {
          "base_uri": "https://localhost:8080/",
          "height": 542
        },
        "id": "_V3Yoc-Oie57",
        "outputId": "8a942882-d3e2-4d38-814e-a3ca14419ff0"
      },
      "execution_count": 9,
      "outputs": [
        {
          "output_type": "display_data",
          "data": {
            "text/html": [
              "<html>\n",
              "<head><meta charset=\"utf-8\" /></head>\n",
              "<body>\n",
              "    <div>            <script src=\"https://cdnjs.cloudflare.com/ajax/libs/mathjax/2.7.5/MathJax.js?config=TeX-AMS-MML_SVG\"></script><script type=\"text/javascript\">if (window.MathJax) {MathJax.Hub.Config({SVG: {font: \"STIX-Web\"}});}</script>                <script type=\"text/javascript\">window.PlotlyConfig = {MathJaxConfig: 'local'};</script>\n",
              "        <script src=\"https://cdn.plot.ly/plotly-2.8.3.min.js\"></script>                <div id=\"7ba725ba-2b4b-4459-affe-bfc5a78ed8e6\" class=\"plotly-graph-div\" style=\"height:525px; width:100%;\"></div>            <script type=\"text/javascript\">                                    window.PLOTLYENV=window.PLOTLYENV || {};                                    if (document.getElementById(\"7ba725ba-2b4b-4459-affe-bfc5a78ed8e6\")) {                    Plotly.newPlot(                        \"7ba725ba-2b4b-4459-affe-bfc5a78ed8e6\",                        [{\"alignmentgroup\":\"True\",\"bingroup\":\"x\",\"hovertemplate\":\"Sex=1<br>Heart Disease=%{x}<br>count=%{y}<extra></extra>\",\"legendgroup\":\"1\",\"marker\":{\"color\":\"#636efa\",\"pattern\":{\"shape\":\"\"}},\"name\":\"1\",\"offsetgroup\":\"1\",\"orientation\":\"v\",\"showlegend\":true,\"x\":[\"Presence\",\"Presence\",\"Absence\",\"Absence\",\"Presence\",\"Presence\",\"Presence\",\"Absence\",\"Absence\",\"Absence\",\"Presence\",\"Presence\",\"Presence\",\"Absence\",\"Absence\",\"Presence\",\"Absence\",\"Absence\",\"Absence\",\"Presence\",\"Presence\",\"Absence\",\"Presence\",\"Presence\",\"Presence\",\"Presence\",\"Presence\",\"Absence\",\"Absence\",\"Presence\",\"Absence\",\"Absence\",\"Presence\",\"Absence\",\"Presence\",\"Presence\",\"Presence\",\"Presence\",\"Absence\",\"Presence\",\"Presence\",\"Absence\",\"Absence\",\"Absence\",\"Presence\",\"Absence\",\"Presence\",\"Presence\",\"Absence\",\"Presence\",\"Absence\",\"Absence\",\"Presence\",\"Presence\",\"Presence\",\"Absence\",\"Absence\",\"Absence\",\"Absence\",\"Absence\",\"Presence\",\"Absence\",\"Presence\",\"Presence\",\"Presence\",\"Presence\",\"Absence\",\"Presence\",\"Presence\",\"Presence\",\"Presence\",\"Presence\",\"Absence\",\"Presence\",\"Absence\",\"Absence\",\"Presence\",\"Presence\",\"Presence\",\"Presence\",\"Presence\",\"Absence\",\"Presence\",\"Absence\",\"Presence\",\"Presence\",\"Absence\",\"Presence\",\"Absence\",\"Presence\",\"Absence\",\"Presence\",\"Absence\",\"Presence\",\"Absence\",\"Presence\",\"Presence\",\"Presence\",\"Presence\",\"Presence\",\"Absence\",\"Presence\",\"Absence\",\"Absence\",\"Presence\",\"Absence\",\"Presence\",\"Absence\",\"Absence\",\"Presence\",\"Absence\",\"Presence\",\"Presence\",\"Absence\",\"Presence\",\"Presence\",\"Presence\",\"Absence\",\"Absence\",\"Presence\",\"Absence\",\"Absence\",\"Presence\",\"Absence\",\"Presence\",\"Absence\",\"Presence\",\"Absence\",\"Presence\",\"Absence\",\"Presence\",\"Absence\",\"Presence\",\"Presence\",\"Presence\",\"Presence\",\"Absence\",\"Absence\",\"Presence\",\"Absence\",\"Presence\",\"Absence\",\"Presence\",\"Absence\",\"Absence\",\"Absence\",\"Absence\",\"Presence\",\"Presence\",\"Absence\",\"Presence\",\"Absence\",\"Absence\",\"Presence\",\"Absence\",\"Presence\",\"Absence\",\"Presence\",\"Absence\",\"Absence\",\"Presence\",\"Absence\",\"Presence\",\"Presence\",\"Presence\",\"Presence\",\"Presence\",\"Absence\",\"Presence\",\"Absence\",\"Absence\",\"Absence\",\"Presence\",\"Presence\",\"Absence\",\"Presence\",\"Presence\",\"Absence\",\"Presence\",\"Absence\",\"Absence\",\"Absence\",\"Presence\"],\"xaxis\":\"x\",\"yaxis\":\"y\",\"type\":\"histogram\"},{\"alignmentgroup\":\"True\",\"bingroup\":\"x\",\"hovertemplate\":\"Sex=0<br>Heart Disease=%{x}<br>count=%{y}<extra></extra>\",\"legendgroup\":\"0\",\"marker\":{\"color\":\"#EF553B\",\"pattern\":{\"shape\":\"\"}},\"name\":\"0\",\"offsetgroup\":\"0\",\"orientation\":\"v\",\"showlegend\":true,\"x\":[\"Absence\",\"Absence\",\"Presence\",\"Absence\",\"Absence\",\"Absence\",\"Absence\",\"Absence\",\"Absence\",\"Absence\",\"Absence\",\"Absence\",\"Presence\",\"Absence\",\"Absence\",\"Absence\",\"Absence\",\"Absence\",\"Presence\",\"Presence\",\"Absence\",\"Presence\",\"Absence\",\"Absence\",\"Absence\",\"Absence\",\"Absence\",\"Absence\",\"Absence\",\"Presence\",\"Absence\",\"Absence\",\"Absence\",\"Absence\",\"Presence\",\"Absence\",\"Presence\",\"Presence\",\"Absence\",\"Absence\",\"Presence\",\"Absence\",\"Absence\",\"Absence\",\"Absence\",\"Presence\",\"Absence\",\"Absence\",\"Absence\",\"Absence\",\"Absence\",\"Absence\",\"Absence\",\"Absence\",\"Absence\",\"Presence\",\"Presence\",\"Absence\",\"Absence\",\"Absence\",\"Absence\",\"Presence\",\"Presence\",\"Absence\",\"Absence\",\"Absence\",\"Absence\",\"Absence\",\"Absence\",\"Absence\",\"Absence\",\"Absence\",\"Absence\",\"Absence\",\"Presence\",\"Presence\",\"Absence\",\"Presence\",\"Presence\",\"Absence\",\"Absence\",\"Presence\",\"Absence\",\"Absence\",\"Absence\",\"Absence\",\"Absence\"],\"xaxis\":\"x\",\"yaxis\":\"y\",\"type\":\"histogram\"}],                        {\"template\":{\"data\":{\"bar\":[{\"error_x\":{\"color\":\"#2a3f5f\"},\"error_y\":{\"color\":\"#2a3f5f\"},\"marker\":{\"line\":{\"color\":\"#E5ECF6\",\"width\":0.5},\"pattern\":{\"fillmode\":\"overlay\",\"size\":10,\"solidity\":0.2}},\"type\":\"bar\"}],\"barpolar\":[{\"marker\":{\"line\":{\"color\":\"#E5ECF6\",\"width\":0.5},\"pattern\":{\"fillmode\":\"overlay\",\"size\":10,\"solidity\":0.2}},\"type\":\"barpolar\"}],\"carpet\":[{\"aaxis\":{\"endlinecolor\":\"#2a3f5f\",\"gridcolor\":\"white\",\"linecolor\":\"white\",\"minorgridcolor\":\"white\",\"startlinecolor\":\"#2a3f5f\"},\"baxis\":{\"endlinecolor\":\"#2a3f5f\",\"gridcolor\":\"white\",\"linecolor\":\"white\",\"minorgridcolor\":\"white\",\"startlinecolor\":\"#2a3f5f\"},\"type\":\"carpet\"}],\"choropleth\":[{\"colorbar\":{\"outlinewidth\":0,\"ticks\":\"\"},\"type\":\"choropleth\"}],\"contour\":[{\"colorbar\":{\"outlinewidth\":0,\"ticks\":\"\"},\"colorscale\":[[0.0,\"#0d0887\"],[0.1111111111111111,\"#46039f\"],[0.2222222222222222,\"#7201a8\"],[0.3333333333333333,\"#9c179e\"],[0.4444444444444444,\"#bd3786\"],[0.5555555555555556,\"#d8576b\"],[0.6666666666666666,\"#ed7953\"],[0.7777777777777778,\"#fb9f3a\"],[0.8888888888888888,\"#fdca26\"],[1.0,\"#f0f921\"]],\"type\":\"contour\"}],\"contourcarpet\":[{\"colorbar\":{\"outlinewidth\":0,\"ticks\":\"\"},\"type\":\"contourcarpet\"}],\"heatmap\":[{\"colorbar\":{\"outlinewidth\":0,\"ticks\":\"\"},\"colorscale\":[[0.0,\"#0d0887\"],[0.1111111111111111,\"#46039f\"],[0.2222222222222222,\"#7201a8\"],[0.3333333333333333,\"#9c179e\"],[0.4444444444444444,\"#bd3786\"],[0.5555555555555556,\"#d8576b\"],[0.6666666666666666,\"#ed7953\"],[0.7777777777777778,\"#fb9f3a\"],[0.8888888888888888,\"#fdca26\"],[1.0,\"#f0f921\"]],\"type\":\"heatmap\"}],\"heatmapgl\":[{\"colorbar\":{\"outlinewidth\":0,\"ticks\":\"\"},\"colorscale\":[[0.0,\"#0d0887\"],[0.1111111111111111,\"#46039f\"],[0.2222222222222222,\"#7201a8\"],[0.3333333333333333,\"#9c179e\"],[0.4444444444444444,\"#bd3786\"],[0.5555555555555556,\"#d8576b\"],[0.6666666666666666,\"#ed7953\"],[0.7777777777777778,\"#fb9f3a\"],[0.8888888888888888,\"#fdca26\"],[1.0,\"#f0f921\"]],\"type\":\"heatmapgl\"}],\"histogram\":[{\"marker\":{\"pattern\":{\"fillmode\":\"overlay\",\"size\":10,\"solidity\":0.2}},\"type\":\"histogram\"}],\"histogram2d\":[{\"colorbar\":{\"outlinewidth\":0,\"ticks\":\"\"},\"colorscale\":[[0.0,\"#0d0887\"],[0.1111111111111111,\"#46039f\"],[0.2222222222222222,\"#7201a8\"],[0.3333333333333333,\"#9c179e\"],[0.4444444444444444,\"#bd3786\"],[0.5555555555555556,\"#d8576b\"],[0.6666666666666666,\"#ed7953\"],[0.7777777777777778,\"#fb9f3a\"],[0.8888888888888888,\"#fdca26\"],[1.0,\"#f0f921\"]],\"type\":\"histogram2d\"}],\"histogram2dcontour\":[{\"colorbar\":{\"outlinewidth\":0,\"ticks\":\"\"},\"colorscale\":[[0.0,\"#0d0887\"],[0.1111111111111111,\"#46039f\"],[0.2222222222222222,\"#7201a8\"],[0.3333333333333333,\"#9c179e\"],[0.4444444444444444,\"#bd3786\"],[0.5555555555555556,\"#d8576b\"],[0.6666666666666666,\"#ed7953\"],[0.7777777777777778,\"#fb9f3a\"],[0.8888888888888888,\"#fdca26\"],[1.0,\"#f0f921\"]],\"type\":\"histogram2dcontour\"}],\"mesh3d\":[{\"colorbar\":{\"outlinewidth\":0,\"ticks\":\"\"},\"type\":\"mesh3d\"}],\"parcoords\":[{\"line\":{\"colorbar\":{\"outlinewidth\":0,\"ticks\":\"\"}},\"type\":\"parcoords\"}],\"pie\":[{\"automargin\":true,\"type\":\"pie\"}],\"scatter\":[{\"marker\":{\"colorbar\":{\"outlinewidth\":0,\"ticks\":\"\"}},\"type\":\"scatter\"}],\"scatter3d\":[{\"line\":{\"colorbar\":{\"outlinewidth\":0,\"ticks\":\"\"}},\"marker\":{\"colorbar\":{\"outlinewidth\":0,\"ticks\":\"\"}},\"type\":\"scatter3d\"}],\"scattercarpet\":[{\"marker\":{\"colorbar\":{\"outlinewidth\":0,\"ticks\":\"\"}},\"type\":\"scattercarpet\"}],\"scattergeo\":[{\"marker\":{\"colorbar\":{\"outlinewidth\":0,\"ticks\":\"\"}},\"type\":\"scattergeo\"}],\"scattergl\":[{\"marker\":{\"colorbar\":{\"outlinewidth\":0,\"ticks\":\"\"}},\"type\":\"scattergl\"}],\"scattermapbox\":[{\"marker\":{\"colorbar\":{\"outlinewidth\":0,\"ticks\":\"\"}},\"type\":\"scattermapbox\"}],\"scatterpolar\":[{\"marker\":{\"colorbar\":{\"outlinewidth\":0,\"ticks\":\"\"}},\"type\":\"scatterpolar\"}],\"scatterpolargl\":[{\"marker\":{\"colorbar\":{\"outlinewidth\":0,\"ticks\":\"\"}},\"type\":\"scatterpolargl\"}],\"scatterternary\":[{\"marker\":{\"colorbar\":{\"outlinewidth\":0,\"ticks\":\"\"}},\"type\":\"scatterternary\"}],\"surface\":[{\"colorbar\":{\"outlinewidth\":0,\"ticks\":\"\"},\"colorscale\":[[0.0,\"#0d0887\"],[0.1111111111111111,\"#46039f\"],[0.2222222222222222,\"#7201a8\"],[0.3333333333333333,\"#9c179e\"],[0.4444444444444444,\"#bd3786\"],[0.5555555555555556,\"#d8576b\"],[0.6666666666666666,\"#ed7953\"],[0.7777777777777778,\"#fb9f3a\"],[0.8888888888888888,\"#fdca26\"],[1.0,\"#f0f921\"]],\"type\":\"surface\"}],\"table\":[{\"cells\":{\"fill\":{\"color\":\"#EBF0F8\"},\"line\":{\"color\":\"white\"}},\"header\":{\"fill\":{\"color\":\"#C8D4E3\"},\"line\":{\"color\":\"white\"}},\"type\":\"table\"}]},\"layout\":{\"annotationdefaults\":{\"arrowcolor\":\"#2a3f5f\",\"arrowhead\":0,\"arrowwidth\":1},\"autotypenumbers\":\"strict\",\"coloraxis\":{\"colorbar\":{\"outlinewidth\":0,\"ticks\":\"\"}},\"colorscale\":{\"diverging\":[[0,\"#8e0152\"],[0.1,\"#c51b7d\"],[0.2,\"#de77ae\"],[0.3,\"#f1b6da\"],[0.4,\"#fde0ef\"],[0.5,\"#f7f7f7\"],[0.6,\"#e6f5d0\"],[0.7,\"#b8e186\"],[0.8,\"#7fbc41\"],[0.9,\"#4d9221\"],[1,\"#276419\"]],\"sequential\":[[0.0,\"#0d0887\"],[0.1111111111111111,\"#46039f\"],[0.2222222222222222,\"#7201a8\"],[0.3333333333333333,\"#9c179e\"],[0.4444444444444444,\"#bd3786\"],[0.5555555555555556,\"#d8576b\"],[0.6666666666666666,\"#ed7953\"],[0.7777777777777778,\"#fb9f3a\"],[0.8888888888888888,\"#fdca26\"],[1.0,\"#f0f921\"]],\"sequentialminus\":[[0.0,\"#0d0887\"],[0.1111111111111111,\"#46039f\"],[0.2222222222222222,\"#7201a8\"],[0.3333333333333333,\"#9c179e\"],[0.4444444444444444,\"#bd3786\"],[0.5555555555555556,\"#d8576b\"],[0.6666666666666666,\"#ed7953\"],[0.7777777777777778,\"#fb9f3a\"],[0.8888888888888888,\"#fdca26\"],[1.0,\"#f0f921\"]]},\"colorway\":[\"#636efa\",\"#EF553B\",\"#00cc96\",\"#ab63fa\",\"#FFA15A\",\"#19d3f3\",\"#FF6692\",\"#B6E880\",\"#FF97FF\",\"#FECB52\"],\"font\":{\"color\":\"#2a3f5f\"},\"geo\":{\"bgcolor\":\"white\",\"lakecolor\":\"white\",\"landcolor\":\"#E5ECF6\",\"showlakes\":true,\"showland\":true,\"subunitcolor\":\"white\"},\"hoverlabel\":{\"align\":\"left\"},\"hovermode\":\"closest\",\"mapbox\":{\"style\":\"light\"},\"paper_bgcolor\":\"white\",\"plot_bgcolor\":\"#E5ECF6\",\"polar\":{\"angularaxis\":{\"gridcolor\":\"white\",\"linecolor\":\"white\",\"ticks\":\"\"},\"bgcolor\":\"#E5ECF6\",\"radialaxis\":{\"gridcolor\":\"white\",\"linecolor\":\"white\",\"ticks\":\"\"}},\"scene\":{\"xaxis\":{\"backgroundcolor\":\"#E5ECF6\",\"gridcolor\":\"white\",\"gridwidth\":2,\"linecolor\":\"white\",\"showbackground\":true,\"ticks\":\"\",\"zerolinecolor\":\"white\"},\"yaxis\":{\"backgroundcolor\":\"#E5ECF6\",\"gridcolor\":\"white\",\"gridwidth\":2,\"linecolor\":\"white\",\"showbackground\":true,\"ticks\":\"\",\"zerolinecolor\":\"white\"},\"zaxis\":{\"backgroundcolor\":\"#E5ECF6\",\"gridcolor\":\"white\",\"gridwidth\":2,\"linecolor\":\"white\",\"showbackground\":true,\"ticks\":\"\",\"zerolinecolor\":\"white\"}},\"shapedefaults\":{\"line\":{\"color\":\"#2a3f5f\"}},\"ternary\":{\"aaxis\":{\"gridcolor\":\"white\",\"linecolor\":\"white\",\"ticks\":\"\"},\"baxis\":{\"gridcolor\":\"white\",\"linecolor\":\"white\",\"ticks\":\"\"},\"bgcolor\":\"#E5ECF6\",\"caxis\":{\"gridcolor\":\"white\",\"linecolor\":\"white\",\"ticks\":\"\"}},\"title\":{\"x\":0.05},\"xaxis\":{\"automargin\":true,\"gridcolor\":\"white\",\"linecolor\":\"white\",\"ticks\":\"\",\"title\":{\"standoff\":15},\"zerolinecolor\":\"white\",\"zerolinewidth\":2},\"yaxis\":{\"automargin\":true,\"gridcolor\":\"white\",\"linecolor\":\"white\",\"ticks\":\"\",\"title\":{\"standoff\":15},\"zerolinecolor\":\"white\",\"zerolinewidth\":2}}},\"xaxis\":{\"anchor\":\"y\",\"domain\":[0.0,1.0],\"title\":{\"text\":\"Heart Disease\"}},\"yaxis\":{\"anchor\":\"x\",\"domain\":[0.0,1.0],\"title\":{\"text\":\"count\"}},\"legend\":{\"title\":{\"text\":\"Sex\"},\"tracegroupgap\":0},\"title\":{\"text\":\"Heart Disease vs Age\"},\"barmode\":\"relative\"},                        {\"responsive\": true}                    ).then(function(){\n",
              "                            \n",
              "var gd = document.getElementById('7ba725ba-2b4b-4459-affe-bfc5a78ed8e6');\n",
              "var x = new MutationObserver(function (mutations, observer) {{\n",
              "        var display = window.getComputedStyle(gd).display;\n",
              "        if (!display || display === 'none') {{\n",
              "            console.log([gd, 'removed!']);\n",
              "            Plotly.purge(gd);\n",
              "            observer.disconnect();\n",
              "        }}\n",
              "}});\n",
              "\n",
              "// Listen for the removal of the full notebook cells\n",
              "var notebookContainer = gd.closest('#notebook-container');\n",
              "if (notebookContainer) {{\n",
              "    x.observe(notebookContainer, {childList: true});\n",
              "}}\n",
              "\n",
              "// Listen for the clearing of the current output cell\n",
              "var outputEl = gd.closest('.output');\n",
              "if (outputEl) {{\n",
              "    x.observe(outputEl, {childList: true});\n",
              "}}\n",
              "\n",
              "                        })                };                            </script>        </div>\n",
              "</body>\n",
              "</html>"
            ]
          },
          "metadata": {}
        }
      ]
    },
    {
      "cell_type": "markdown",
      "source": [
        "There are 20 Female patents and 100 Male patents with the heart disease"
      ],
      "metadata": {
        "id": "ZmqMOZlaiidW"
      }
    },
    {
      "cell_type": "code",
      "source": [
        "import seaborn as sn"
      ],
      "metadata": {
        "id": "FwvOYyVrikCh"
      },
      "execution_count": 10,
      "outputs": []
    },
    {
      "cell_type": "code",
      "source": [
        "sn.countplot(x='Heart Disease',data=data)"
      ],
      "metadata": {
        "colab": {
          "base_uri": "https://localhost:8080/",
          "height": 413
        },
        "id": "1f5XCRMGimIm",
        "outputId": "4e857127-bd3a-4bf7-c95d-3a9e704a9558"
      },
      "execution_count": 11,
      "outputs": [
        {
          "output_type": "execute_result",
          "data": {
            "text/plain": [
              "<matplotlib.axes._subplots.AxesSubplot at 0x7f9465db1690>"
            ]
          },
          "metadata": {},
          "execution_count": 11
        },
        {
          "output_type": "display_data",
          "data": {
            "text/plain": [
              "<Figure size 720x432 with 1 Axes>"
            ],
            "image/png": "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\n"
          },
          "metadata": {
            "needs_background": "light"
          }
        }
      ]
    },
    {
      "cell_type": "markdown",
      "source": [
        "There are over 140 patents that are free of heart disease and 120 patents that have heart disease."
      ],
      "metadata": {
        "id": "28Z2lfK1iomj"
      }
    }
  ]
}